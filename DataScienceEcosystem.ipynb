{
 "cells": [
  {
   "cell_type": "markdown",
   "id": "ff91d260",
   "metadata": {},
   "source": [
    "# Data Science Tools and Ecosystem"
   ]
  },
  {
   "cell_type": "markdown",
   "id": "1fe2e62e",
   "metadata": {},
   "source": [
    "## Author\n",
    "Gerson Morales Deras"
   ]
  },
  {
   "cell_type": "markdown",
   "id": "ce011e4c",
   "metadata": {},
   "source": [
    "In this notebook, Data Science Tools and Ecosystem are summarized."
   ]
  },
  {
   "cell_type": "markdown",
   "id": "7b30e293",
   "metadata": {},
   "source": [
    "**Objectives**\n",
    "\n",
    "* List some popular Data Science languages\n",
    "* List some commonly used libraries\n",
    "* Evaluate arithmetic expressions in Python"
   ]
  },
  {
   "cell_type": "markdown",
   "id": "6a4dbc34",
   "metadata": {},
   "source": [
    "Some of the popular languages that Data Scientists use are:\n",
    "1. Python\n",
    "1. R\n",
    "1. SQL"
   ]
  },
  {
   "cell_type": "markdown",
   "id": "f06722cb",
   "metadata": {},
   "source": [
    "Some of the commonly used libraries used by Data Scientists include:\n",
    "1. Pandas\n",
    "1. Scikit-learn\n",
    "1. Numpy\n",
    "1. Matplotlib"
   ]
  },
  {
   "cell_type": "markdown",
   "id": "7b6e6ea0",
   "metadata": {},
   "source": [
    "<table>\n",
    "<tr>\n",
    "    <th>Data Science tools</th>\n",
    "</tr>\n",
    "\n",
    "<tr>\n",
    "    <td>MySql</td> \n",
    "</tr>\n",
    "\n",
    "<tr>\n",
    "    <td>MongoDB</td>   \n",
    "</tr>\n",
    "    \n",
    "<tr>\n",
    "    <td>Cassandra</td>   \n",
    "</tr>\n",
    "\n",
    "</table>"
   ]
  },
  {
   "cell_type": "markdown",
   "id": "59fc761e",
   "metadata": {},
   "source": [
    "### Below are a few examples of evaluating arithmetic expressions in Python.\n"
   ]
  },
  {
   "cell_type": "code",
   "execution_count": 3,
   "id": "03d0df71",
   "metadata": {},
   "outputs": [
    {
     "data": {
      "text/plain": [
       "17"
      ]
     },
     "execution_count": 3,
     "metadata": {},
     "output_type": "execute_result"
    }
   ],
   "source": [
    "#This a simple arithmetic expression to mutiply then add integers\n",
    "(3*4)+5"
   ]
  },
  {
   "cell_type": "code",
   "execution_count": 4,
   "id": "1241b679",
   "metadata": {},
   "outputs": [
    {
     "data": {
      "text/plain": [
       "3.3333333333333335"
      ]
     },
     "execution_count": 4,
     "metadata": {},
     "output_type": "execute_result"
    }
   ],
   "source": [
    "#This will convert 200 minutes to hours by diving by 60\n",
    "200/60"
   ]
  },
  {
   "cell_type": "code",
   "execution_count": null,
   "id": "dedb8b32",
   "metadata": {},
   "outputs": [],
   "source": []
  }
 ],
 "metadata": {
  "kernelspec": {
   "display_name": "Python 3 (ipykernel)",
   "language": "python",
   "name": "python3"
  },
  "language_info": {
   "codemirror_mode": {
    "name": "ipython",
    "version": 3
   },
   "file_extension": ".py",
   "mimetype": "text/x-python",
   "name": "python",
   "nbconvert_exporter": "python",
   "pygments_lexer": "ipython3",
   "version": "3.9.7"
  }
 },
 "nbformat": 4,
 "nbformat_minor": 5
}
