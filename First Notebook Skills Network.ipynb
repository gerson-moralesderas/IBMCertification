{
  "metadata": {
    "kernelspec": {
      "name": "python",
      "display_name": "Pyolite",
      "language": "python"
    },
    "language_info": {
      "codemirror_mode": {
        "name": "python",
        "version": 3
      },
      "file_extension": ".py",
      "mimetype": "text/x-python",
      "name": "python",
      "nbconvert_exporter": "python",
      "pygments_lexer": "ipython3",
      "version": "3.8"
    }
  },
  "nbformat_minor": 4,
  "nbformat": 4,
  "cells": [
    {
      "cell_type": "markdown",
      "source": "<center>\n    <img src=\"https://cf-courses-data.s3.us.cloud-object-storage.appdomain.cloud/IBMDeveloperSkillsNetwork-DS0105EN-SkillsNetwork/labs/Module2/images/SN_web_lightmode.png\" width=\"300\" alt=\"cognitiveclass.ai logo\">\n</center>\n",
      "metadata": {}
    },
    {
      "cell_type": "markdown",
      "source": "# My Jupyter Notebook on IBM Watson Studio",
      "metadata": {}
    },
    {
      "cell_type": "markdown",
      "source": "**Gerson Morales Deras**\n\nData Scientist",
      "metadata": {}
    },
    {
      "cell_type": "markdown",
      "source": "*I would like to become a data scientist because I am interested in developing models that help humanity better understand our societies*",
      "metadata": {}
    },
    {
      "cell_type": "markdown",
      "source": "### The next code adds 5 to any number that you specify when you call the function",
      "metadata": {}
    },
    {
      "cell_type": "code",
      "source": "def add_5(x): #Here we define the function\n    result = x + 5\n    return result\n\nadd_5(10) #Finally we call the function. This time, we are going to add 10 + 5",
      "metadata": {
        "trusted": true
      },
      "execution_count": 1,
      "outputs": [
        {
          "execution_count": 1,
          "output_type": "execute_result",
          "data": {
            "text/plain": "15"
          },
          "metadata": {}
        }
      ]
    },
    {
      "cell_type": "markdown",
      "source": "These are my three favorite outside activities:\n1. Running.\n1. Biking.\n1. Swimming.\n\nHowever, I can't play most team sports such as Soccer, Basketball and Volleyball because\n* I never learned how to play as a kid.\n* There are no adult classes near me in order to practice the skills required to play.\n* I am a little shy! \n\nRecently, I watched Fight Club and came across the following quote. It made me rethink how I am spending my days.\n> This is your life, and it's ending one minute at a time. **Chuck Palahnick**",
      "metadata": {}
    },
    {
      "cell_type": "code",
      "source": "",
      "metadata": {},
      "execution_count": null,
      "outputs": []
    }
  ]
}